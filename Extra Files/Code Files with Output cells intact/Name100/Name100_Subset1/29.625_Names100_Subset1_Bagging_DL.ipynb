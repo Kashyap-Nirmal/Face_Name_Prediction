{
  "nbformat": 4,
  "nbformat_minor": 0,
  "metadata": {
    "colab": {
      "name": "29.625_Names100_5_Classes_Bagging_DL.ipynb",
      "provenance": [],
      "collapsed_sections": []
    },
    "kernelspec": {
      "name": "python3",
      "display_name": "Python 3"
    },
    "language_info": {
      "name": "python"
    },
    "accelerator": "GPU"
  },
  "cells": [
    {
      "cell_type": "code",
      "execution_count": null,
      "metadata": {
        "colab": {
          "base_uri": "https://localhost:8080/"
        },
        "id": "4JsUr2C6Rsmy",
        "outputId": "021e83d0-853a-4cfd-991e-2407b9ba05e4"
      },
      "outputs": [
        {
          "output_type": "stream",
          "name": "stdout",
          "text": [
            "Cloning into 'Name_Dataset'...\n",
            "remote: Enumerating objects: 5001, done.\u001b[K\n",
            "remote: Counting objects: 100% (5001/5001), done.\u001b[K\n",
            "remote: Compressing objects: 100% (4993/4993), done.\u001b[K\n",
            "remote: Total 5001 (delta 19), reused 4985 (delta 6), pack-reused 0\u001b[K\n",
            "Receiving objects: 100% (5001/5001), 119.79 MiB | 35.17 MiB/s, done.\n",
            "Resolving deltas: 100% (19/19), done.\n",
            "Checking out files: 100% (9845/9845), done.\n"
          ]
        }
      ],
      "source": [
        "!git clone https://github.com/Kashyap-Nirmal/Name_Dataset.git"
      ]
    },
    {
      "cell_type": "code",
      "source": [
        "from tensorflow.keras.preprocessing.image import ImageDataGenerator\n",
        "from tensorflow.keras.optimizers import Adam\n",
        "from tensorflow.keras.preprocessing.image import img_to_array\n",
        "from tensorflow.keras.utils import to_categorical, plot_model\n",
        "from tensorflow.keras.models import Sequential\n",
        "from tensorflow.keras.layers import BatchNormalization, Conv2D, MaxPooling2D, Activation, Flatten, Dropout, Dense\n",
        "from tensorflow.keras import backend as K\n",
        "from sklearn.model_selection import train_test_split\n",
        "from tensorflow.keras import callbacks\n",
        "from numpy import asarray\n",
        "from sklearn import metrics\n",
        "from sklearn.metrics import confusion_matrix, classification_report,accuracy_score, ConfusionMatrixDisplay\n",
        "\n",
        "import matplotlib.pyplot as plt\n",
        "import seaborn as sns\n",
        "import numpy as np\n",
        "import random\n",
        "import cv2\n",
        "import os\n",
        "import glob"
      ],
      "metadata": {
        "id": "nJ6egQdVRzQc"
      },
      "execution_count": null,
      "outputs": []
    },
    {
      "cell_type": "code",
      "source": [
        "train_file = []\n",
        "for filename in glob.glob(r\"./Name_Dataset/Train/\" + \"/**/*\", recursive=True): #assuming gif\n",
        "    train_file.append(filename)\n",
        "\n",
        "test_file = []\n",
        "for filename in glob.glob(r\"./Name_Dataset/Test/\" + \"/**/*\", recursive=True): #assuming gif\n",
        "    test_file.append(filename)"
      ],
      "metadata": {
        "id": "rpXzopEUR0Pe"
      },
      "execution_count": null,
      "outputs": []
    },
    {
      "cell_type": "code",
      "source": [
        "random.shuffle(train_file)\n",
        "print(len(train_file))\n",
        "print(len(test_file))"
      ],
      "metadata": {
        "colab": {
          "base_uri": "https://localhost:8080/"
        },
        "id": "DImfY3ggR1Ij",
        "outputId": "ceff70bf-ac25-46a3-aedd-626fd6fc873a"
      },
      "execution_count": null,
      "outputs": [
        {
          "output_type": "stream",
          "name": "stdout",
          "text": [
            "3205\n",
            "805\n"
          ]
        }
      ]
    },
    {
      "cell_type": "code",
      "source": [
        "label = {\"Chris\":0, \"Jamie\":1, \"Maggie\":2, \"Stephen\":3, \"Tina\": 4}"
      ],
      "metadata": {
        "id": "Tr4qGkkuR2CD"
      },
      "execution_count": null,
      "outputs": []
    },
    {
      "cell_type": "code",
      "source": [
        "trainx = []\n",
        "testx = []\n",
        "trainy = []\n",
        "testy = []\n",
        "\n",
        "for img in train_file:\n",
        "  try:\n",
        "    image = cv2.imread(img)\n",
        "    image = cv2.resize(image, (64, 64))\n",
        "    image = img_to_array(image)\n",
        "    trainx.append(image)\n",
        "\n",
        "    lbl = img.split(os.path.sep)[-2] # C:\\Files\\gender_dataset_face\\woman\\face_1162.jpg\n",
        "    l = label[lbl]\n",
        "        \n",
        "    trainy.append([l]) # [[1], [0], [0], ...]\n",
        "\n",
        "  except:\n",
        "    print(\"a\")\n",
        "    \n",
        "for img in test_file:\n",
        "  try:\n",
        "    image = cv2.imread(img)\n",
        "    image = cv2.resize(image, (64, 64))\n",
        "    image = img_to_array(image)\n",
        "    testx.append(image)\n",
        "\n",
        "    lbl = img.split(os.path.sep)[-2] # C:\\Files\\gender_dataset_face\\woman\\face_1162.jpg\n",
        "    l = label[lbl]\n",
        "        \n",
        "    testy.append([l]) # [[1], [0], [0], ...]\n",
        "  except:\n",
        "    print(\"b\")"
      ],
      "metadata": {
        "colab": {
          "base_uri": "https://localhost:8080/"
        },
        "id": "ZBUQpDGzR2_8",
        "outputId": "eff435a3-7d1a-4c8f-af02-677a69f2a1f4"
      },
      "execution_count": null,
      "outputs": [
        {
          "output_type": "stream",
          "name": "stdout",
          "text": [
            "a\n",
            "a\n",
            "a\n",
            "a\n",
            "a\n",
            "b\n",
            "b\n",
            "b\n",
            "b\n",
            "b\n"
          ]
        }
      ]
    },
    {
      "cell_type": "code",
      "source": [
        "trainx = np.array(trainx, dtype=\"float\")/255.0\n",
        "testx = np.array(testx, dtype=\"float\")/255.0"
      ],
      "metadata": {
        "id": "Jb8caWdCR37Y"
      },
      "execution_count": null,
      "outputs": []
    },
    {
      "cell_type": "code",
      "source": [
        "import keras\n",
        "from keras.applications.vgg16 import VGG16\n",
        "from keras.models import Model\n",
        "from keras.layers import Dense\n",
        "from keras.layers import MaxPooling2D\n",
        "from keras.layers import Flatten\n",
        "\n",
        "# load model without classifier layers\n",
        "base_model = VGG16(include_top=False, weights='imagenet', input_shape=(64, 64, 3), classes=5)\n",
        "\n",
        "flat1 = Flatten()(base_model.layers[-1].output)\n",
        "class1 = Dense(4096, activation='relu')(flat1)\n",
        "\n",
        "model = Model(inputs=base_model.inputs, outputs=class1)"
      ],
      "metadata": {
        "colab": {
          "base_uri": "https://localhost:8080/"
        },
        "id": "8T3loYtPR5FT",
        "outputId": "e08d6517-7e5e-49a0-e2c7-896aa0bdf9cf"
      },
      "execution_count": null,
      "outputs": [
        {
          "output_type": "stream",
          "name": "stdout",
          "text": [
            "Downloading data from https://storage.googleapis.com/tensorflow/keras-applications/vgg16/vgg16_weights_tf_dim_ordering_tf_kernels_notop.h5\n",
            "58892288/58889256 [==============================] - 1s 0us/step\n",
            "58900480/58889256 [==============================] - 1s 0us/step\n"
          ]
        }
      ]
    },
    {
      "cell_type": "code",
      "source": [
        "trainx.shape"
      ],
      "metadata": {
        "colab": {
          "base_uri": "https://localhost:8080/"
        },
        "id": "M3f6cld_R6LL",
        "outputId": "253fc3d1-0ee9-48be-d4a5-182121e1b06c"
      },
      "execution_count": null,
      "outputs": [
        {
          "output_type": "execute_result",
          "data": {
            "text/plain": [
              "(3200, 64, 64, 3)"
            ]
          },
          "metadata": {},
          "execution_count": 9
        }
      ]
    },
    {
      "cell_type": "code",
      "source": [
        "model.summary()"
      ],
      "metadata": {
        "colab": {
          "base_uri": "https://localhost:8080/"
        },
        "id": "sIlN6ALkR9CU",
        "outputId": "9227fbe8-afbf-4fb7-85c0-82f012d4d69b"
      },
      "execution_count": null,
      "outputs": [
        {
          "output_type": "stream",
          "name": "stdout",
          "text": [
            "Model: \"model\"\n",
            "_________________________________________________________________\n",
            " Layer (type)                Output Shape              Param #   \n",
            "=================================================================\n",
            " input_1 (InputLayer)        [(None, 64, 64, 3)]       0         \n",
            "                                                                 \n",
            " block1_conv1 (Conv2D)       (None, 64, 64, 64)        1792      \n",
            "                                                                 \n",
            " block1_conv2 (Conv2D)       (None, 64, 64, 64)        36928     \n",
            "                                                                 \n",
            " block1_pool (MaxPooling2D)  (None, 32, 32, 64)        0         \n",
            "                                                                 \n",
            " block2_conv1 (Conv2D)       (None, 32, 32, 128)       73856     \n",
            "                                                                 \n",
            " block2_conv2 (Conv2D)       (None, 32, 32, 128)       147584    \n",
            "                                                                 \n",
            " block2_pool (MaxPooling2D)  (None, 16, 16, 128)       0         \n",
            "                                                                 \n",
            " block3_conv1 (Conv2D)       (None, 16, 16, 256)       295168    \n",
            "                                                                 \n",
            " block3_conv2 (Conv2D)       (None, 16, 16, 256)       590080    \n",
            "                                                                 \n",
            " block3_conv3 (Conv2D)       (None, 16, 16, 256)       590080    \n",
            "                                                                 \n",
            " block3_pool (MaxPooling2D)  (None, 8, 8, 256)         0         \n",
            "                                                                 \n",
            " block4_conv1 (Conv2D)       (None, 8, 8, 512)         1180160   \n",
            "                                                                 \n",
            " block4_conv2 (Conv2D)       (None, 8, 8, 512)         2359808   \n",
            "                                                                 \n",
            " block4_conv3 (Conv2D)       (None, 8, 8, 512)         2359808   \n",
            "                                                                 \n",
            " block4_pool (MaxPooling2D)  (None, 4, 4, 512)         0         \n",
            "                                                                 \n",
            " block5_conv1 (Conv2D)       (None, 4, 4, 512)         2359808   \n",
            "                                                                 \n",
            " block5_conv2 (Conv2D)       (None, 4, 4, 512)         2359808   \n",
            "                                                                 \n",
            " block5_conv3 (Conv2D)       (None, 4, 4, 512)         2359808   \n",
            "                                                                 \n",
            " block5_pool (MaxPooling2D)  (None, 2, 2, 512)         0         \n",
            "                                                                 \n",
            " flatten (Flatten)           (None, 2048)              0         \n",
            "                                                                 \n",
            " dense (Dense)               (None, 4096)              8392704   \n",
            "                                                                 \n",
            "=================================================================\n",
            "Total params: 23,107,392\n",
            "Trainable params: 23,107,392\n",
            "Non-trainable params: 0\n",
            "_________________________________________________________________\n"
          ]
        }
      ]
    },
    {
      "cell_type": "code",
      "source": [
        "trainy = np.array(trainy)\n",
        "testy = np.array(testy)"
      ],
      "metadata": {
        "id": "GgDX3mYDR-QN"
      },
      "execution_count": null,
      "outputs": []
    },
    {
      "cell_type": "code",
      "source": [
        "from sklearn.ensemble import BaggingClassifier\n",
        "from sklearn.svm import SVC\n",
        "\n",
        "svc=SVC(probability=True, kernel=\"linear\")"
      ],
      "metadata": {
        "id": "K9JUbmpASATB"
      },
      "execution_count": null,
      "outputs": []
    },
    {
      "cell_type": "code",
      "source": [
        "trainx = model.predict(trainx)\n",
        "testx = model.predict(testx)"
      ],
      "metadata": {
        "id": "yb5Myae0SByL"
      },
      "execution_count": null,
      "outputs": []
    },
    {
      "cell_type": "code",
      "source": [
        "clf = BaggingClassifier(base_estimator=svc, n_estimators=50)\n",
        "clf = clf.fit(trainx, trainy)"
      ],
      "metadata": {
        "colab": {
          "base_uri": "https://localhost:8080/"
        },
        "id": "mACtifAZSFH7",
        "outputId": "93de4d24-6ed4-4baa-b8d9-a6d3f45216db"
      },
      "execution_count": null,
      "outputs": [
        {
          "output_type": "stream",
          "name": "stderr",
          "text": [
            "/usr/local/lib/python3.7/dist-packages/sklearn/ensemble/_bagging.py:719: DataConversionWarning: A column-vector y was passed when a 1d array was expected. Please change the shape of y to (n_samples, ), for example using ravel().\n",
            "  y = column_or_1d(y, warn=True)\n"
          ]
        }
      ]
    },
    {
      "cell_type": "code",
      "source": [
        "y_pred = clf.predict(testx)"
      ],
      "metadata": {
        "id": "iVGm3OBvSXQ-"
      },
      "execution_count": null,
      "outputs": []
    },
    {
      "cell_type": "code",
      "source": [
        "print(\"Accuracy:\",metrics.accuracy_score(testy, y_pred))"
      ],
      "metadata": {
        "colab": {
          "base_uri": "https://localhost:8080/"
        },
        "id": "i-7cF0yriOXr",
        "outputId": "deb4905c-7d72-4c46-8b7a-e9990a1b53a2"
      },
      "execution_count": null,
      "outputs": [
        {
          "output_type": "stream",
          "name": "stdout",
          "text": [
            "Accuracy: 0.29625\n"
          ]
        }
      ]
    },
    {
      "cell_type": "code",
      "source": [
        "confusionmatrix = confusion_matrix(testy, y_pred, normalize = 'true')  \n",
        "ax = sns.heatmap(confusionmatrix , cmap = 'Blues', annot = True , cbar = True , fmt ='.2%')\n",
        "ax.figbox\n",
        "# Show all ticks and label them with the respective list entries\n",
        "list = []\n",
        "for key in label.keys():\n",
        "  list.append(key)\n",
        "ax.xaxis.set_ticklabels(list)\n",
        "ax.yaxis.set_ticklabels(list) \n",
        "# Rotate the tick labels and set their alignment.\n",
        "plt.setp(ax.get_xticklabels() , rotation=45 , ha=\"right\", rotation_mode=\"anchor\")\n",
        "ax.set_title('Confusion Matrix for Name Prediction\\n\\n');\n",
        "plt.show()"
      ],
      "metadata": {
        "colab": {
          "base_uri": "https://localhost:8080/",
          "height": 338
        },
        "id": "C172HFoEScGs",
        "outputId": "e706f86f-68cf-420e-a90d-e0f9e0224093"
      },
      "execution_count": null,
      "outputs": [
        {
          "output_type": "display_data",
          "data": {
            "text/plain": [
              "<Figure size 432x288 with 2 Axes>"
            ],
            "image/png": "[encoded data removed]"
          },
          "metadata": {
            "needs_background": "light"
          }
        }
      ]
    },
    {
      "cell_type": "code",
      "source": [
        "print(classification_report(testy, y_pred))"
      ],
      "metadata": {
        "colab": {
          "base_uri": "https://localhost:8080/"
        },
        "id": "ePdNeQEJh0PD",
        "outputId": "16856e5f-a34f-4cce-a014-b56536e7ba0f"
      },
      "execution_count": null,
      "outputs": [
        {
          "output_type": "stream",
          "name": "stdout",
          "text": [
            "              precision    recall  f1-score   support\n",
            "\n",
            "           0       0.29      0.35      0.32       160\n",
            "           1       0.25      0.10      0.14       160\n",
            "           2       0.33      0.41      0.37       160\n",
            "           3       0.26      0.28      0.27       160\n",
            "           4       0.31      0.34      0.32       160\n",
            "\n",
            "    accuracy                           0.30       800\n",
            "   macro avg       0.29      0.30      0.28       800\n",
            "weighted avg       0.29      0.30      0.28       800\n",
            "\n"
          ]
        }
      ]
    }
  ]
}