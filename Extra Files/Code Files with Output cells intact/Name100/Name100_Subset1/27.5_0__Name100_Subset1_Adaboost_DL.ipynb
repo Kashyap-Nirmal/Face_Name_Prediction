{
  "nbformat": 4,
  "nbformat_minor": 0,
  "metadata": {
    "colab": {
      "name": "29.5_0%_Name100_Adaboost_DL.ipynb",
      "provenance": []
    },
    "kernelspec": {
      "name": "python3",
      "display_name": "Python 3"
    },
    "language_info": {
      "name": "python"
    },
    "accelerator": "GPU"
  },
  "cells": [
    {
      "cell_type": "code",
      "execution_count": 1,
      "metadata": {
        "colab": {
          "base_uri": "https://localhost:8080/"
        },
        "id": "6SKxbOsvMEYD",
        "outputId": "2f37456e-7b8a-4318-d8e0-9b8f88f87885"
      },
      "outputs": [
        {
          "output_type": "stream",
          "name": "stdout",
          "text": [
            "Cloning into 'Name_Dataset'...\n",
            "remote: Enumerating objects: 9825, done.\u001b[K\n",
            "remote: Counting objects: 100% (810/810), done.\u001b[K\n",
            "remote: Compressing objects: 100% (808/808), done.\u001b[K\n",
            "remote: Total 9825 (delta 2), reused 808 (delta 2), pack-reused 9015\u001b[K\n",
            "Receiving objects: 100% (9825/9825), 255.42 MiB | 30.31 MiB/s, done.\n",
            "Resolving deltas: 100% (22/22), done.\n",
            "Checking out files: 100% (17845/17845), done.\n"
          ]
        }
      ],
      "source": [
        "!git clone https://github.com/Kashyap-Nirmal/Name_Dataset.git"
      ]
    },
    {
      "cell_type": "code",
      "source": [
        "from tensorflow.keras.preprocessing.image import ImageDataGenerator\n",
        "from tensorflow.keras.optimizers import Adam\n",
        "from tensorflow.keras.preprocessing.image import img_to_array\n",
        "from tensorflow.keras.utils import to_categorical, plot_model\n",
        "from tensorflow.keras.models import Sequential\n",
        "from tensorflow.keras.layers import BatchNormalization, Conv2D, MaxPooling2D, Activation, Flatten, Dropout, Dense\n",
        "from tensorflow.keras import backend as K\n",
        "from sklearn.model_selection import train_test_split\n",
        "from tensorflow.keras import callbacks\n",
        "from numpy import asarray\n",
        "from sklearn import metrics\n",
        "from sklearn.metrics import confusion_matrix, classification_report,accuracy_score, ConfusionMatrixDisplay\n",
        "\n",
        "import matplotlib.pyplot as plt\n",
        "import seaborn as sns\n",
        "import numpy as np\n",
        "import random\n",
        "import cv2\n",
        "import os\n",
        "import glob"
      ],
      "metadata": {
        "id": "l9jFYfgMMMlD"
      },
      "execution_count": 2,
      "outputs": []
    },
    {
      "cell_type": "code",
      "source": [
        "train_file = []\n",
        "for filename in glob.glob(r\"./Name_Dataset/Train/\" + \"/**/*\", recursive=True): #assuming gif\n",
        "    train_file.append(filename)\n",
        "\n",
        "test_file = []\n",
        "for filename in glob.glob(r\"./Name_Dataset/Test/\" + \"/**/*\", recursive=True): #assuming gif\n",
        "    test_file.append(filename)"
      ],
      "metadata": {
        "id": "5A8wY6E-MNe_"
      },
      "execution_count": 3,
      "outputs": []
    },
    {
      "cell_type": "code",
      "source": [
        "random.shuffle(train_file)\n",
        "print(len(train_file))\n",
        "print(len(test_file))"
      ],
      "metadata": {
        "colab": {
          "base_uri": "https://localhost:8080/"
        },
        "id": "da2m7vnvMOcC",
        "outputId": "5158124e-e185-4acf-da44-eb8b0a0108c7"
      },
      "execution_count": 4,
      "outputs": [
        {
          "output_type": "stream",
          "name": "stdout",
          "text": [
            "3205\n",
            "805\n"
          ]
        }
      ]
    },
    {
      "cell_type": "code",
      "source": [
        "label = {\"Chris\":0, \"Jamie\":1, \"Maggie\":2, \"Stephen\":3, \"Tina\": 4}"
      ],
      "metadata": {
        "id": "Y4gmE56bMRBa"
      },
      "execution_count": 5,
      "outputs": []
    },
    {
      "cell_type": "code",
      "source": [
        "trainx = []\n",
        "testx = []\n",
        "trainy = []\n",
        "testy = []\n",
        "\n",
        "for img in train_file:\n",
        "  try:\n",
        "    image = cv2.imread(img)\n",
        "    image = cv2.resize(image, (64, 64))\n",
        "    image = img_to_array(image)\n",
        "    trainx.append(image)\n",
        "\n",
        "    lbl = img.split(os.path.sep)[-2] # C:\\Files\\gender_dataset_face\\woman\\face_1162.jpg\n",
        "    l = label[lbl]\n",
        "        \n",
        "    trainy.append([l]) # [[1], [0], [0], ...]\n",
        "\n",
        "  except:\n",
        "    print(\"a\")\n",
        "    \n",
        "for img in test_file:\n",
        "  try:\n",
        "    image = cv2.imread(img)\n",
        "    image = cv2.resize(image, (64, 64))\n",
        "    image = img_to_array(image)\n",
        "    testx.append(image)\n",
        "\n",
        "    lbl = img.split(os.path.sep)[-2] # C:\\Files\\gender_dataset_face\\woman\\face_1162.jpg\n",
        "    l = label[lbl]\n",
        "        \n",
        "    testy.append([l]) # [[1], [0], [0], ...]\n",
        "  except:\n",
        "    print(\"b\")"
      ],
      "metadata": {
        "colab": {
          "base_uri": "https://localhost:8080/"
        },
        "id": "9xZ4HKPpMSfz",
        "outputId": "3fa1cde8-d624-462c-ea0b-2b5b5d7630c7"
      },
      "execution_count": 6,
      "outputs": [
        {
          "output_type": "stream",
          "name": "stdout",
          "text": [
            "a\n",
            "a\n",
            "a\n",
            "a\n",
            "a\n",
            "b\n",
            "b\n",
            "b\n",
            "b\n",
            "b\n"
          ]
        }
      ]
    },
    {
      "cell_type": "code",
      "source": [
        "trainx = np.array(trainx, dtype=\"float\")/255.0\n",
        "testx = np.array(testx, dtype=\"float\")/255.0"
      ],
      "metadata": {
        "id": "OVQrinwJMTky"
      },
      "execution_count": 7,
      "outputs": []
    },
    {
      "cell_type": "code",
      "source": [
        "import keras\n",
        "from keras.applications.vgg16 import VGG16\n",
        "from keras.models import Model\n",
        "from keras.layers import Dense\n",
        "from keras.layers import MaxPooling2D\n",
        "from keras.layers import Flatten\n",
        "\n",
        "# load model without classifier layers\n",
        "base_model = VGG16(include_top=False, weights='imagenet', input_shape=(64, 64, 3), classes=5)\n",
        "\n",
        "flat1 = Flatten()(base_model.layers[-1].output)\n",
        "class1 = Dense(4096, activation='relu')(flat1)\n",
        "\n",
        "model = Model(inputs=base_model.inputs, outputs=class1)"
      ],
      "metadata": {
        "colab": {
          "base_uri": "https://localhost:8080/"
        },
        "id": "HnbV7qCbMVA9",
        "outputId": "62511aa1-ce35-45d4-b92f-f38ff9665852"
      },
      "execution_count": 8,
      "outputs": [
        {
          "output_type": "stream",
          "name": "stdout",
          "text": [
            "Downloading data from https://storage.googleapis.com/tensorflow/keras-applications/vgg16/vgg16_weights_tf_dim_ordering_tf_kernels_notop.h5\n",
            "58892288/58889256 [==============================] - 0s 0us/step\n",
            "58900480/58889256 [==============================] - 0s 0us/step\n"
          ]
        }
      ]
    },
    {
      "cell_type": "code",
      "source": [
        "trainx.shape"
      ],
      "metadata": {
        "colab": {
          "base_uri": "https://localhost:8080/"
        },
        "id": "BfdmOjzYMqGV",
        "outputId": "345f6866-7344-4a72-e3fe-a580d643ebc9"
      },
      "execution_count": 9,
      "outputs": [
        {
          "output_type": "execute_result",
          "data": {
            "text/plain": [
              "(3200, 64, 64, 3)"
            ]
          },
          "metadata": {},
          "execution_count": 9
        }
      ]
    },
    {
      "cell_type": "code",
      "source": [
        "model.summary()"
      ],
      "metadata": {
        "colab": {
          "base_uri": "https://localhost:8080/"
        },
        "id": "JVC0Vki9Mtky",
        "outputId": "11536e7e-081e-4013-ca7f-eccf5d62c53b"
      },
      "execution_count": 10,
      "outputs": [
        {
          "output_type": "stream",
          "name": "stdout",
          "text": [
            "Model: \"model\"\n",
            "_________________________________________________________________\n",
            " Layer (type)                Output Shape              Param #   \n",
            "=================================================================\n",
            " input_1 (InputLayer)        [(None, 64, 64, 3)]       0         \n",
            "                                                                 \n",
            " block1_conv1 (Conv2D)       (None, 64, 64, 64)        1792      \n",
            "                                                                 \n",
            " block1_conv2 (Conv2D)       (None, 64, 64, 64)        36928     \n",
            "                                                                 \n",
            " block1_pool (MaxPooling2D)  (None, 32, 32, 64)        0         \n",
            "                                                                 \n",
            " block2_conv1 (Conv2D)       (None, 32, 32, 128)       73856     \n",
            "                                                                 \n",
            " block2_conv2 (Conv2D)       (None, 32, 32, 128)       147584    \n",
            "                                                                 \n",
            " block2_pool (MaxPooling2D)  (None, 16, 16, 128)       0         \n",
            "                                                                 \n",
            " block3_conv1 (Conv2D)       (None, 16, 16, 256)       295168    \n",
            "                                                                 \n",
            " block3_conv2 (Conv2D)       (None, 16, 16, 256)       590080    \n",
            "                                                                 \n",
            " block3_conv3 (Conv2D)       (None, 16, 16, 256)       590080    \n",
            "                                                                 \n",
            " block3_pool (MaxPooling2D)  (None, 8, 8, 256)         0         \n",
            "                                                                 \n",
            " block4_conv1 (Conv2D)       (None, 8, 8, 512)         1180160   \n",
            "                                                                 \n",
            " block4_conv2 (Conv2D)       (None, 8, 8, 512)         2359808   \n",
            "                                                                 \n",
            " block4_conv3 (Conv2D)       (None, 8, 8, 512)         2359808   \n",
            "                                                                 \n",
            " block4_pool (MaxPooling2D)  (None, 4, 4, 512)         0         \n",
            "                                                                 \n",
            " block5_conv1 (Conv2D)       (None, 4, 4, 512)         2359808   \n",
            "                                                                 \n",
            " block5_conv2 (Conv2D)       (None, 4, 4, 512)         2359808   \n",
            "                                                                 \n",
            " block5_conv3 (Conv2D)       (None, 4, 4, 512)         2359808   \n",
            "                                                                 \n",
            " block5_pool (MaxPooling2D)  (None, 2, 2, 512)         0         \n",
            "                                                                 \n",
            " flatten (Flatten)           (None, 2048)              0         \n",
            "                                                                 \n",
            " dense (Dense)               (None, 4096)              8392704   \n",
            "                                                                 \n",
            "=================================================================\n",
            "Total params: 23,107,392\n",
            "Trainable params: 23,107,392\n",
            "Non-trainable params: 0\n",
            "_________________________________________________________________\n"
          ]
        }
      ]
    },
    {
      "cell_type": "code",
      "source": [
        "trainy = np.array(trainy)\n",
        "testy = np.array(testy)"
      ],
      "metadata": {
        "id": "ucFUue12Mxsd"
      },
      "execution_count": 11,
      "outputs": []
    },
    {
      "cell_type": "code",
      "source": [
        "from sklearn.ensemble import AdaBoostClassifier\n",
        "from sklearn.ensemble import BaggingClassifier\n",
        "from sklearn.svm import SVC\n",
        "\n",
        "svc=SVC(probability=True, kernel=\"linear\")"
      ],
      "metadata": {
        "id": "ps-XPDTxOET5"
      },
      "execution_count": 12,
      "outputs": []
    },
    {
      "cell_type": "code",
      "source": [
        "trainx = model.predict(trainx)\n",
        "testx = model.predict(testx)"
      ],
      "metadata": {
        "id": "_Nm1TMZAOhvP"
      },
      "execution_count": 13,
      "outputs": []
    },
    {
      "cell_type": "code",
      "source": [
        "adaboost = AdaBoostClassifier(n_estimators=3, base_estimator=svc, learning_rate=0.5, algorithm='SAMME.R')\n",
        "clfmodel = adaboost.fit(trainx, trainy)"
      ],
      "metadata": {
        "colab": {
          "base_uri": "https://localhost:8080/"
        },
        "id": "gbqpnGFRONvk",
        "outputId": "0aca56d0-dc6c-4060-af4a-0a20ebb5ac52"
      },
      "execution_count": 14,
      "outputs": [
        {
          "output_type": "stream",
          "name": "stderr",
          "text": [
            "/usr/local/lib/python3.7/dist-packages/sklearn/utils/validation.py:993: DataConversionWarning: A column-vector y was passed when a 1d array was expected. Please change the shape of y to (n_samples, ), for example using ravel().\n",
            "  y = column_or_1d(y, warn=True)\n"
          ]
        }
      ]
    },
    {
      "cell_type": "code",
      "source": [
        "y_pred = clfmodel.predict(testx)\n",
        "print(\"Accuracy:\",metrics.accuracy_score(testy, y_pred))"
      ],
      "metadata": {
        "colab": {
          "base_uri": "https://localhost:8080/"
        },
        "id": "4O4_xJgkOoNd",
        "outputId": "49cfab51-c1d4-404d-9ba6-cf7efac1d331"
      },
      "execution_count": 15,
      "outputs": [
        {
          "output_type": "stream",
          "name": "stdout",
          "text": [
            "Accuracy: 0.295\n"
          ]
        }
      ]
    },
    {
      "cell_type": "code",
      "source": [
        "confusionmatrix = confusion_matrix(testy, y_pred, normalize = 'true')  \n",
        "ax = sns.heatmap(confusionmatrix , cmap = 'Blues', annot = True , cbar = True , fmt ='.2%')\n",
        "ax.figbox\n",
        "# Show all ticks and label them with the respective list entries\n",
        "list = []\n",
        "for key in label.keys():\n",
        "  list.append(key)\n",
        "ax.xaxis.set_ticklabels(list)\n",
        "ax.yaxis.set_ticklabels(list) \n",
        "# Rotate the tick labels and set their alignment.\n",
        "plt.setp(ax.get_xticklabels() , rotation=45 , ha=\"right\", rotation_mode=\"anchor\")\n",
        "ax.set_title('Confusion Matrix for Name Prediction\\n\\n');\n",
        "plt.show()"
      ],
      "metadata": {
        "colab": {
          "base_uri": "https://localhost:8080/",
          "height": 338
        },
        "id": "atm41fO_OsJX",
        "outputId": "7348bc83-a137-49e8-cba8-b74e71a8f3e5"
      },
      "execution_count": 16,
      "outputs": [
        {
          "output_type": "display_data",
          "data": {
            "text/plain": [
              "<Figure size 432x288 with 2 Axes>"
            ],
            "image/png": "[encoded data removed]"
          },
          "metadata": {
            "needs_background": "light"
          }
        }
      ]
    },
    {
      "cell_type": "code",
      "source": [
        "print(classification_report(testy, y_pred))"
      ],
      "metadata": {
        "colab": {
          "base_uri": "https://localhost:8080/"
        },
        "id": "45QhNeyjOy3q",
        "outputId": "c8fb1717-b083-492b-a7c6-c4bb8ffd0573"
      },
      "execution_count": 17,
      "outputs": [
        {
          "output_type": "stream",
          "name": "stdout",
          "text": [
            "              precision    recall  f1-score   support\n",
            "\n",
            "           0       0.27      0.16      0.20       160\n",
            "           1       0.00      0.00      0.00       160\n",
            "           2       0.32      0.50      0.39       160\n",
            "           3       0.28      0.57      0.37       160\n",
            "           4       0.31      0.24      0.27       160\n",
            "\n",
            "    accuracy                           0.29       800\n",
            "   macro avg       0.24      0.29      0.25       800\n",
            "weighted avg       0.24      0.29      0.25       800\n",
            "\n"
          ]
        },
        {
          "output_type": "stream",
          "name": "stderr",
          "text": [
            "/usr/local/lib/python3.7/dist-packages/sklearn/metrics/_classification.py:1318: UndefinedMetricWarning: Precision and F-score are ill-defined and being set to 0.0 in labels with no predicted samples. Use `zero_division` parameter to control this behavior.\n",
            "  _warn_prf(average, modifier, msg_start, len(result))\n",
            "/usr/local/lib/python3.7/dist-packages/sklearn/metrics/_classification.py:1318: UndefinedMetricWarning: Precision and F-score are ill-defined and being set to 0.0 in labels with no predicted samples. Use `zero_division` parameter to control this behavior.\n",
            "  _warn_prf(average, modifier, msg_start, len(result))\n",
            "/usr/local/lib/python3.7/dist-packages/sklearn/metrics/_classification.py:1318: UndefinedMetricWarning: Precision and F-score are ill-defined and being set to 0.0 in labels with no predicted samples. Use `zero_division` parameter to control this behavior.\n",
            "  _warn_prf(average, modifier, msg_start, len(result))\n"
          ]
        }
      ]
    }
  ]
}