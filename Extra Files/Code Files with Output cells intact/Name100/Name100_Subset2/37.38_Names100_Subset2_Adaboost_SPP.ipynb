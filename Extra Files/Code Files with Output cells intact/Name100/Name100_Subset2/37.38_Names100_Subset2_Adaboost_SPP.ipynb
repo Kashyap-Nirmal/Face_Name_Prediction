{
  "cells": [
    {
      "cell_type": "code",
      "execution_count": null,
      "metadata": {
        "colab": {
          "base_uri": "https://localhost:8080/"
        },
        "id": "Ocx54hWPIJyg",
        "outputId": "1930707f-ec80-49f9-be1b-8e35f742f8f2"
      },
      "outputs": [
        {
          "name": "stdout",
          "output_type": "stream",
          "text": [
            "Cloning into 'Name_Dataset'...\n",
            "remote: Enumerating objects: 9015, done.\u001b[K\n",
            "remote: Total 9015 (delta 0), reused 0 (delta 0), pack-reused 9015\u001b[K\n",
            "Receiving objects: 100% (9015/9015), 232.57 MiB | 11.92 MiB/s, done.\n",
            "Resolving deltas: 100% (20/20), done.\n",
            "Checking out files: 100% (13845/13845), done.\n"
          ]
        }
      ],
      "source": [
        "!git clone https://github.com/Kashyap-Nirmal/Name_Dataset.git"
      ]
    },
    {
      "cell_type": "code",
      "execution_count": null,
      "metadata": {
        "id": "KAj9nvPOIQMu"
      },
      "outputs": [],
      "source": [
        "from tensorflow.keras.preprocessing.image import ImageDataGenerator\n",
        "from tensorflow.keras.optimizers import Adam\n",
        "from tensorflow.keras.preprocessing.image import img_to_array\n",
        "from tensorflow.keras.utils import to_categorical, plot_model\n",
        "from tensorflow.keras.models import Sequential\n",
        "from tensorflow.keras.layers import BatchNormalization, Conv2D, MaxPooling2D, Activation, Flatten, Dropout, Dense\n",
        "from tensorflow.keras import backend as K\n",
        "from sklearn.model_selection import train_test_split\n",
        "from tensorflow.keras import callbacks\n",
        "from numpy import asarray\n",
        "from sklearn import metrics\n",
        "from sklearn.metrics import confusion_matrix, classification_report,accuracy_score, ConfusionMatrixDisplay\n",
        "\n",
        "import matplotlib.pyplot as plt\n",
        "import seaborn as sns\n",
        "import numpy as np\n",
        "import random\n",
        "import cv2\n",
        "import os\n",
        "import glob"
      ]
    },
    {
      "cell_type": "code",
      "execution_count": null,
      "metadata": {
        "id": "br0N2MJfIRTB"
      },
      "outputs": [],
      "source": [
        "train_file = []\n",
        "for filename in glob.glob(r\"./Name_Dataset/Train_AA/\" + \"/**/*\", recursive=True): #assuming gif\n",
        "    train_file.append(filename)\n",
        "\n",
        "test_file = []\n",
        "for filename in glob.glob(r\"./Name_Dataset/Test_AA/\" + \"/**/*\", recursive=True): #assuming gif\n",
        "    test_file.append(filename)"
      ]
    },
    {
      "cell_type": "code",
      "execution_count": null,
      "metadata": {
        "colab": {
          "base_uri": "https://localhost:8080/"
        },
        "id": "gMeFSMozITBG",
        "outputId": "3d26e794-ba40-4f49-ae7d-6865302b9797"
      },
      "outputs": [
        {
          "name": "stdout",
          "output_type": "stream",
          "text": [
            "3205\n",
            "805\n"
          ]
        }
      ],
      "source": [
        "random.shuffle(train_file)\n",
        "print(len(train_file))\n",
        "print(len(test_file))"
      ]
    },
    {
      "cell_type": "code",
      "execution_count": null,
      "metadata": {
        "id": "HV1K5Z9yIpCl"
      },
      "outputs": [],
      "source": [
        "label = {\"Abby\" : 0, \"Amanda\" : 1, \"Angela\" : 2, \"Aaron\" : 3, \"Andrea\" : 4}"
      ]
    },
    {
      "cell_type": "code",
      "execution_count": null,
      "metadata": {
        "colab": {
          "base_uri": "https://localhost:8080/"
        },
        "id": "8APHBiOFIUUI",
        "outputId": "cbb38252-9888-45e8-fd8d-fdf3e9853563"
      },
      "outputs": [
        {
          "name": "stdout",
          "output_type": "stream",
          "text": [
            "a\n",
            "a\n",
            "a\n",
            "a\n",
            "a\n",
            "b\n",
            "b\n",
            "b\n",
            "b\n",
            "b\n"
          ]
        }
      ],
      "source": [
        "trainx = []\n",
        "testx = []\n",
        "trainy = []\n",
        "testy = []\n",
        "\n",
        "for img in train_file:\n",
        "  try:\n",
        "    image = cv2.imread(img)\n",
        "    image = cv2.resize(image, (64, 64))\n",
        "    image = img_to_array(image)\n",
        "    trainx.append(image)\n",
        "\n",
        "    lbl = img.split(os.path.sep)[-2] # C:\\Files\\gender_dataset_face\\woman\\face_1162.jpg\n",
        "    l = label[lbl]\n",
        "        \n",
        "    trainy.append([l]) # [[1], [0], [0], ...]\n",
        "\n",
        "  except:\n",
        "    print(\"a\")\n",
        "\n",
        "for img in test_file:\n",
        "  try:\n",
        "    image = cv2.imread(img)\n",
        "    image = cv2.resize(image, (64, 64))\n",
        "    image = img_to_array(image)\n",
        "    testx.append(image)\n",
        "\n",
        "    lbl = img.split(os.path.sep)[-2] # C:\\Files\\gender_dataset_face\\woman\\face_1162.jpg\n",
        "    l = label[lbl]\n",
        "        \n",
        "    testy.append([l]) # [[1], [0], [0], ...]\n",
        "  except:\n",
        "    print(\"b\")"
      ]
    },
    {
      "cell_type": "code",
      "execution_count": null,
      "metadata": {
        "id": "uwnSYuVOIVga"
      },
      "outputs": [],
      "source": [
        "trainx = np.array(trainx, dtype=\"float\")/255.0\n",
        "testx = np.array(testx, dtype=\"float\")/255.0"
      ]
    },
    {
      "cell_type": "code",
      "execution_count": null,
      "metadata": {
        "colab": {
          "base_uri": "https://localhost:8080/"
        },
        "id": "FAvTyTroIxOq",
        "outputId": "8f3006bf-c109-4e5b-f5b8-342852a0dd9e"
      },
      "outputs": [
        {
          "data": {
            "text/plain": [
              "(3200, 64, 64, 3)"
            ]
          },
          "execution_count": 8,
          "metadata": {},
          "output_type": "execute_result"
        }
      ],
      "source": [
        "trainx.shape"
      ]
    },
    {
      "cell_type": "code",
      "execution_count": null,
      "metadata": {
        "colab": {
          "base_uri": "https://localhost:8080/"
        },
        "id": "Hb8KuhNtIyrW",
        "outputId": "574b817f-40b6-4df4-b197-47144e82ec56"
      },
      "outputs": [
        {
          "name": "stdout",
          "output_type": "stream",
          "text": [
            "Downloading data from https://storage.googleapis.com/tensorflow/keras-applications/vgg16/vgg16_weights_tf_dim_ordering_tf_kernels_notop.h5\n",
            "58892288/58889256 [==============================] - 1s 0us/step\n",
            "58900480/58889256 [==============================] - 1s 0us/step\n"
          ]
        }
      ],
      "source": [
        "# # example of tending the vgg16 model\n",
        "import keras\n",
        "from keras.applications.vgg16 import VGG16\n",
        "from keras.models import Model\n",
        "from keras.layers import Dense\n",
        "from keras.layers import MaxPooling2D\n",
        "from keras.layers import Flatten\n",
        "import math\n",
        "# load model without classifier layers\n",
        "base_model = VGG16(include_top=False, weights='imagenet', input_shape=(64, 64, 3))\n",
        "\n",
        "win1 = math.ceil(16/1)\n",
        "str1 = math.floor(16/1)\n",
        "\n",
        "win2 = math.ceil(16/2)\n",
        "str2 = math.floor(16/2)\n",
        "\n",
        "win3 = math.ceil(16/4)\n",
        "str3 = math.floor(16/4)\n",
        "\n",
        "win4 = math.ceil(16/8)\n",
        "str4 = math.floor(16/8)\n",
        "\n",
        "l1 = keras.layers.MaxPooling2D(pool_size=(win1), strides=str1, padding=\"valid\")(base_model.layers[-10].output)\n",
        "l2 = keras.layers.MaxPooling2D(pool_size=(win2), strides=str2, padding=\"valid\")(base_model.layers[-10].output)\n",
        "l3 = keras.layers.MaxPooling2D(pool_size=(win3), strides=str3, padding=\"valid\")(base_model.layers[-10].output)\n",
        "\n",
        "flat1 = Flatten()(l1)\n",
        "flat2 = Flatten()(l2)\n",
        "flat3 = Flatten()(l3)\n",
        "\n",
        "# # define new model\n",
        "\n",
        "for layer in base_model.layers:\n",
        "    layer.trainable = False\n",
        "\n",
        "model = Model(inputs=base_model.inputs, outputs=[flat1, flat2, flat3])"
      ]
    },
    {
      "cell_type": "code",
      "execution_count": null,
      "metadata": {
        "colab": {
          "base_uri": "https://localhost:8080/"
        },
        "id": "7eTeB3JFI7q_",
        "outputId": "46db5d6b-547d-4a59-f798-5b13165a0d12"
      },
      "outputs": [
        {
          "name": "stdout",
          "output_type": "stream",
          "text": [
            "Model: \"model\"\n",
            "__________________________________________________________________________________________________\n",
            " Layer (type)                   Output Shape         Param #     Connected to                     \n",
            "==================================================================================================\n",
            " input_1 (InputLayer)           [(None, 64, 64, 3)]  0           []                               \n",
            "                                                                                                  \n",
            " block1_conv1 (Conv2D)          (None, 64, 64, 64)   1792        ['input_1[0][0]']                \n",
            "                                                                                                  \n",
            " block1_conv2 (Conv2D)          (None, 64, 64, 64)   36928       ['block1_conv1[0][0]']           \n",
            "                                                                                                  \n",
            " block1_pool (MaxPooling2D)     (None, 32, 32, 64)   0           ['block1_conv2[0][0]']           \n",
            "                                                                                                  \n",
            " block2_conv1 (Conv2D)          (None, 32, 32, 128)  73856       ['block1_pool[0][0]']            \n",
            "                                                                                                  \n",
            " block2_conv2 (Conv2D)          (None, 32, 32, 128)  147584      ['block2_conv1[0][0]']           \n",
            "                                                                                                  \n",
            " block2_pool (MaxPooling2D)     (None, 16, 16, 128)  0           ['block2_conv2[0][0]']           \n",
            "                                                                                                  \n",
            " block3_conv1 (Conv2D)          (None, 16, 16, 256)  295168      ['block2_pool[0][0]']            \n",
            "                                                                                                  \n",
            " block3_conv2 (Conv2D)          (None, 16, 16, 256)  590080      ['block3_conv1[0][0]']           \n",
            "                                                                                                  \n",
            " block3_conv3 (Conv2D)          (None, 16, 16, 256)  590080      ['block3_conv2[0][0]']           \n",
            "                                                                                                  \n",
            " max_pooling2d (MaxPooling2D)   (None, 1, 1, 256)    0           ['block3_conv3[0][0]']           \n",
            "                                                                                                  \n",
            " max_pooling2d_1 (MaxPooling2D)  (None, 2, 2, 256)   0           ['block3_conv3[0][0]']           \n",
            "                                                                                                  \n",
            " max_pooling2d_2 (MaxPooling2D)  (None, 4, 4, 256)   0           ['block3_conv3[0][0]']           \n",
            "                                                                                                  \n",
            " flatten (Flatten)              (None, 256)          0           ['max_pooling2d[0][0]']          \n",
            "                                                                                                  \n",
            " flatten_1 (Flatten)            (None, 1024)         0           ['max_pooling2d_1[0][0]']        \n",
            "                                                                                                  \n",
            " flatten_2 (Flatten)            (None, 4096)         0           ['max_pooling2d_2[0][0]']        \n",
            "                                                                                                  \n",
            "==================================================================================================\n",
            "Total params: 1,735,488\n",
            "Trainable params: 0\n",
            "Non-trainable params: 1,735,488\n",
            "__________________________________________________________________________________________________\n"
          ]
        }
      ],
      "source": [
        "model.summary()"
      ]
    },
    {
      "cell_type": "code",
      "execution_count": null,
      "metadata": {
        "id": "4cVfr89BI9wy"
      },
      "outputs": [],
      "source": [
        "trainy = np.array(trainy)\n",
        "testy = np.array(testy)"
      ]
    },
    {
      "cell_type": "code",
      "execution_count": null,
      "metadata": {
        "id": "76Ce55lQJAfR"
      },
      "outputs": [],
      "source": [
        "from sklearn.ensemble import AdaBoostClassifier\n",
        "from sklearn.svm import SVC"
      ]
    },
    {
      "cell_type": "code",
      "execution_count": null,
      "metadata": {
        "id": "NRQ75Wz9JFJS"
      },
      "outputs": [],
      "source": [
        "svc=SVC(probability=True, kernel=\"linear\")\n",
        "clf = AdaBoostClassifier(n_estimators=21, base_estimator=svc, learning_rate=0.5, algorithm='SAMME.R')"
      ]
    },
    {
      "cell_type": "code",
      "execution_count": null,
      "metadata": {
        "id": "dQfNRgZcJL-A"
      },
      "outputs": [],
      "source": [
        "train = model.predict(trainx)\n",
        "test = model.predict(testx)"
      ]
    },
    {
      "cell_type": "code",
      "execution_count": null,
      "metadata": {
        "id": "H4jVEi7EJUEk"
      },
      "outputs": [],
      "source": [
        "train = np.hstack([train[0], train[1], train[2]])\n",
        "test = np.hstack([test[0], test[1], test[2]])"
      ]
    },
    {
      "cell_type": "code",
      "execution_count": null,
      "metadata": {
        "colab": {
          "base_uri": "https://localhost:8080/"
        },
        "id": "3_ncIimfJfqZ",
        "outputId": "258e9e27-4e66-42ca-aa72-3a200b9931ff"
      },
      "outputs": [
        {
          "data": {
            "text/plain": [
              "(3200, 5376)"
            ]
          },
          "execution_count": 16,
          "metadata": {},
          "output_type": "execute_result"
        }
      ],
      "source": [
        "train.shape"
      ]
    },
    {
      "cell_type": "code",
      "execution_count": null,
      "metadata": {
        "colab": {
          "background_save": true,
          "base_uri": "https://localhost:8080/"
        },
        "id": "SAVLtaVNJhhW",
        "outputId": "708fd007-bc31-4420-bf1b-ba5c1c506ddc"
      },
      "outputs": [
        {
          "name": "stderr",
          "output_type": "stream",
          "text": [
            "/usr/local/lib/python3.7/dist-packages/sklearn/utils/validation.py:993: DataConversionWarning: A column-vector y was passed when a 1d array was expected. Please change the shape of y to (n_samples, ), for example using ravel().\n",
            "  y = column_or_1d(y, warn=True)\n"
          ]
        }
      ],
      "source": [
        "clfmodel = clf.fit(train, trainy)"
      ]
    },
    {
      "cell_type": "code",
      "execution_count": 18,
      "metadata": {
        "id": "iJuFxAJzJtUZ",
        "colab": {
          "base_uri": "https://localhost:8080/"
        },
        "outputId": "5d2477a6-97d2-4902-8600-422b650c2ea5"
      },
      "outputs": [
        {
          "output_type": "stream",
          "name": "stdout",
          "text": [
            "Accuracy: 0.37375\n"
          ]
        }
      ],
      "source": [
        "y_pred = clfmodel.predict(test)\n",
        "print(\"Accuracy:\",metrics.accuracy_score(testy, y_pred))"
      ]
    },
    {
      "cell_type": "code",
      "execution_count": 19,
      "metadata": {
        "id": "VIe6gdmFKLnH",
        "colab": {
          "base_uri": "https://localhost:8080/",
          "height": 338
        },
        "outputId": "9faa2216-e850-4fe7-e80e-3ceeba440ebb"
      },
      "outputs": [
        {
          "output_type": "display_data",
          "data": {
            "text/plain": [
              "<Figure size 432x288 with 2 Axes>"
            ],
            "image/png": "[encoded data removed]"
          },
          "metadata": {
            "needs_background": "light"
          }
        }
      ],
      "source": [
        "confusionmatrix = confusion_matrix(testy, y_pred, normalize = 'true')  \n",
        "ax = sns.heatmap(confusionmatrix , cmap = 'Blues', annot = True , cbar = True , fmt ='.2%')\n",
        "ax.figbox\n",
        "# Show all ticks and label them with the respective list entries\n",
        "list = []\n",
        "for key in label.keys():\n",
        "  list.append(key)\n",
        "ax.xaxis.set_ticklabels(list)\n",
        "ax.yaxis.set_ticklabels(list) \n",
        "# Rotate the tick labels and set their alignment.\n",
        "plt.setp(ax.get_xticklabels() , rotation=45 , ha=\"right\", rotation_mode=\"anchor\")\n",
        "ax.set_title('Confusion Matrix for Name Prediction\\n\\n');\n",
        "plt.show()"
      ]
    },
    {
      "cell_type": "code",
      "execution_count": 20,
      "metadata": {
        "id": "T34L6flkgX4H",
        "colab": {
          "base_uri": "https://localhost:8080/"
        },
        "outputId": "2979b221-724c-4c85-87a0-4382e32065c8"
      },
      "outputs": [
        {
          "output_type": "stream",
          "name": "stdout",
          "text": [
            "              precision    recall  f1-score   support\n",
            "\n",
            "           0       0.39      0.43      0.41       160\n",
            "           1       0.31      0.27      0.29       160\n",
            "           2       0.31      0.31      0.31       160\n",
            "           3       0.53      0.66      0.59       160\n",
            "           4       0.25      0.19      0.22       160\n",
            "\n",
            "    accuracy                           0.37       800\n",
            "   macro avg       0.36      0.37      0.36       800\n",
            "weighted avg       0.36      0.37      0.36       800\n",
            "\n"
          ]
        }
      ],
      "source": [
        "print(classification_report(testy, y_pred))"
      ]
    }
  ],
  "metadata": {
    "accelerator": "GPU",
    "colab": {
      "name": "37.38_Names100_5_Classes_Adaboost_SP.ipynb",
      "provenance": []
    },
    "kernelspec": {
      "display_name": "Python 3",
      "name": "python3"
    },
    "language_info": {
      "name": "python"
    }
  },
  "nbformat": 4,
  "nbformat_minor": 0
}