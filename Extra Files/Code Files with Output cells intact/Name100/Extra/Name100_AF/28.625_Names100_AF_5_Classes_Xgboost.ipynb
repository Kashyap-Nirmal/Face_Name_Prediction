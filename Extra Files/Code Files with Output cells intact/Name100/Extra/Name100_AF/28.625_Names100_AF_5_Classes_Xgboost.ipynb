{
  "nbformat": 4,
  "nbformat_minor": 0,
  "metadata": {
    "colab": {
      "name": "28.625_Names100_AF_5_Classes_Xgboost.ipynb",
      "provenance": [],
      "collapsed_sections": []
    },
    "kernelspec": {
      "name": "python3",
      "display_name": "Python 3"
    },
    "language_info": {
      "name": "python"
    },
    "accelerator": "GPU"
  },
  "cells": [
    {
      "cell_type": "code",
      "execution_count": 1,
      "metadata": {
        "colab": {
          "base_uri": "https://localhost:8080/"
        },
        "id": "UA3ecinMrfaX",
        "outputId": "4275dcac-c802-44c1-9802-2a0a58ed12ef"
      },
      "outputs": [
        {
          "output_type": "stream",
          "name": "stdout",
          "text": [
            "Cloning into 'Name_Dataset'...\n",
            "remote: Enumerating objects: 9825, done.\u001b[K\n",
            "remote: Counting objects: 100% (810/810), done.\u001b[K\n",
            "remote: Compressing objects: 100% (808/808), done.\u001b[K\n",
            "remote: Total 9825 (delta 2), reused 808 (delta 2), pack-reused 9015\u001b[K\n",
            "Receiving objects: 100% (9825/9825), 255.42 MiB | 26.49 MiB/s, done.\n",
            "Resolving deltas: 100% (22/22), done.\n",
            "Checking out files: 100% (17845/17845), done.\n"
          ]
        }
      ],
      "source": [
        "!git clone https://github.com/Kashyap-Nirmal/Name_Dataset.git"
      ]
    },
    {
      "cell_type": "code",
      "source": [
        "from tensorflow.keras.preprocessing.image import ImageDataGenerator\n",
        "from tensorflow.keras.optimizers import Adam\n",
        "from tensorflow.keras.preprocessing.image import img_to_array\n",
        "from tensorflow.keras.utils import to_categorical, plot_model\n",
        "from tensorflow.keras.models import Sequential\n",
        "from tensorflow.keras.layers import BatchNormalization, Conv2D, MaxPooling2D, Activation, Flatten, Dropout, Dense\n",
        "from tensorflow.keras import backend as K\n",
        "from sklearn.model_selection import train_test_split\n",
        "from tensorflow.keras import callbacks\n",
        "from numpy import asarray\n",
        "from sklearn import metrics\n",
        "from sklearn.metrics import confusion_matrix, classification_report,accuracy_score, ConfusionMatrixDisplay\n",
        "\n",
        "import matplotlib.pyplot as plt\n",
        "import seaborn as sns\n",
        "import numpy as np\n",
        "import random\n",
        "import cv2\n",
        "import os\n",
        "import glob"
      ],
      "metadata": {
        "id": "AGMA76AUrl2W"
      },
      "execution_count": 2,
      "outputs": []
    },
    {
      "cell_type": "code",
      "source": [
        "train_file = []\n",
        "for filename in glob.glob(r\"./Name_Dataset/Train_AF/\" + \"/**/*\", recursive=True): #assuming gif\n",
        "    train_file.append(filename)\n",
        "\n",
        "test_file = []\n",
        "for filename in glob.glob(r\"./Name_Dataset/Test_AF/\" + \"/**/*\", recursive=True): #assuming gif\n",
        "    test_file.append(filename)"
      ],
      "metadata": {
        "id": "2xGyIhZJrnI-"
      },
      "execution_count": 3,
      "outputs": []
    },
    {
      "cell_type": "code",
      "source": [
        "random.shuffle(train_file)\n",
        "print(len(train_file))\n",
        "print(len(test_file))"
      ],
      "metadata": {
        "colab": {
          "base_uri": "https://localhost:8080/"
        },
        "id": "Z3-icjfRrooq",
        "outputId": "8ee219c4-3dab-41e3-e05f-9798a1f40d4c"
      },
      "execution_count": 4,
      "outputs": [
        {
          "output_type": "stream",
          "name": "stdout",
          "text": [
            "3205\n",
            "805\n"
          ]
        }
      ]
    },
    {
      "cell_type": "code",
      "source": [
        "label = {\"Abby\" : 0, \"Amanda\" : 1, \"Angela\" : 2, \"Anna\" : 3, \"Andrea\" : 4}"
      ],
      "metadata": {
        "id": "tHGZhtxhrqVI"
      },
      "execution_count": 5,
      "outputs": []
    },
    {
      "cell_type": "code",
      "source": [
        "trainx = []\n",
        "testx = []\n",
        "trainy = []\n",
        "testy = []\n",
        "\n",
        "for img in train_file:\n",
        "  try:\n",
        "    image = cv2.imread(img)\n",
        "    image = cv2.resize(image, (64, 64))\n",
        "    image = img_to_array(image)\n",
        "    trainx.append(image)\n",
        "\n",
        "    lbl = img.split(os.path.sep)[-2] # C:\\Files\\gender_dataset_face\\woman\\face_1162.jpg\n",
        "    l = label[lbl]\n",
        "        \n",
        "    trainy.append([l]) # [[1], [0], [0], ...]\n",
        "\n",
        "  except:\n",
        "    print(\"a\")\n",
        "    \n",
        "for img in test_file:\n",
        "  try:\n",
        "    image = cv2.imread(img)\n",
        "    image = cv2.resize(image, (64, 64))\n",
        "    image = img_to_array(image)\n",
        "    testx.append(image)\n",
        "\n",
        "    lbl = img.split(os.path.sep)[-2] # C:\\Files\\gender_dataset_face\\woman\\face_1162.jpg\n",
        "    l = label[lbl]\n",
        "        \n",
        "    testy.append([l]) # [[1], [0], [0], ...]\n",
        "  except:\n",
        "    print(\"b\")"
      ],
      "metadata": {
        "colab": {
          "base_uri": "https://localhost:8080/"
        },
        "id": "DZoN0fr5rsNQ",
        "outputId": "d9607814-0a8f-443c-d37d-8ca66ed1e80d"
      },
      "execution_count": 6,
      "outputs": [
        {
          "output_type": "stream",
          "name": "stdout",
          "text": [
            "a\n",
            "a\n",
            "a\n",
            "a\n",
            "a\n",
            "b\n",
            "b\n",
            "b\n",
            "b\n",
            "b\n"
          ]
        }
      ]
    },
    {
      "cell_type": "code",
      "source": [
        "trainx = np.array(trainx, dtype=\"float\")/255.0\n",
        "testx = np.array(testx, dtype=\"float\")/255.0"
      ],
      "metadata": {
        "id": "58PulSSFwJSd"
      },
      "execution_count": 7,
      "outputs": []
    },
    {
      "cell_type": "code",
      "source": [
        "trainy = np.array(trainy)\n",
        "testy = np.array(testy)"
      ],
      "metadata": {
        "id": "xKqkJnEfwwNY"
      },
      "execution_count": 8,
      "outputs": []
    },
    {
      "cell_type": "code",
      "source": [
        "trainx.shape"
      ],
      "metadata": {
        "colab": {
          "base_uri": "https://localhost:8080/"
        },
        "id": "WM62WW_7wPYw",
        "outputId": "c619111a-fb4f-4f6b-ab55-09b34a8f033e"
      },
      "execution_count": 9,
      "outputs": [
        {
          "output_type": "execute_result",
          "data": {
            "text/plain": [
              "(3200, 64, 64, 3)"
            ]
          },
          "metadata": {},
          "execution_count": 9
        }
      ]
    },
    {
      "cell_type": "code",
      "source": [
        "# # example of tending the vgg16 model\n",
        "import keras\n",
        "from keras.applications.vgg16 import VGG16\n",
        "from keras.models import Model\n",
        "from keras.layers import Dense\n",
        "from keras.layers import MaxPooling2D\n",
        "from keras.layers import Flatten\n",
        "import math\n",
        "\n",
        "# load model without classifier layers\n",
        "base_model = VGG16(include_top=False, weights='imagenet', input_shape=(64, 64, 3))\n",
        "\n",
        "win1 = math.ceil(16/1)\n",
        "str1 = math.floor(16/1)\n",
        "\n",
        "win2 = math.ceil(16/2)\n",
        "str2 = math.floor(16/2)\n",
        "\n",
        "win3 = math.ceil(16/4)\n",
        "str3 = math.floor(16/4)\n",
        "\n",
        "l1 = keras.layers.MaxPooling2D(pool_size=(win1), strides=str1, padding=\"valid\")(base_model.layers[-10].output)\n",
        "l2 = keras.layers.MaxPooling2D(pool_size=(win2), strides=str2, padding=\"valid\")(base_model.layers[-10].output)\n",
        "l3 = keras.layers.MaxPooling2D(pool_size=(win3), strides=str3, padding=\"valid\")(base_model.layers[-10].output)\n",
        "\n",
        "flat1 = Flatten()(l1)\n",
        "flat2 = Flatten()(l2)\n",
        "flat3 = Flatten()(l3)\n",
        "\n",
        "# # define new model\n",
        "\n",
        "for layer in base_model.layers:\n",
        "    layer.trainable = False\n",
        "\n",
        "model = Model(inputs=base_model.inputs, outputs=[flat1, flat2, flat3])"
      ],
      "metadata": {
        "colab": {
          "base_uri": "https://localhost:8080/"
        },
        "id": "dausX5fRwVcb",
        "outputId": "9969eb6b-3b83-4ceb-a03b-5afd8bdf12cf"
      },
      "execution_count": 10,
      "outputs": [
        {
          "output_type": "stream",
          "name": "stdout",
          "text": [
            "Downloading data from https://storage.googleapis.com/tensorflow/keras-applications/vgg16/vgg16_weights_tf_dim_ordering_tf_kernels_notop.h5\n",
            "58892288/58889256 [==============================] - 0s 0us/step\n",
            "58900480/58889256 [==============================] - 0s 0us/step\n"
          ]
        }
      ]
    },
    {
      "cell_type": "code",
      "source": [
        "model.summary()"
      ],
      "metadata": {
        "colab": {
          "base_uri": "https://localhost:8080/"
        },
        "id": "XN8HgDkRwhV0",
        "outputId": "7b1a98a4-39ef-4d8e-f5af-49b891ed2333"
      },
      "execution_count": 11,
      "outputs": [
        {
          "output_type": "stream",
          "name": "stdout",
          "text": [
            "Model: \"model\"\n",
            "__________________________________________________________________________________________________\n",
            " Layer (type)                   Output Shape         Param #     Connected to                     \n",
            "==================================================================================================\n",
            " input_1 (InputLayer)           [(None, 64, 64, 3)]  0           []                               \n",
            "                                                                                                  \n",
            " block1_conv1 (Conv2D)          (None, 64, 64, 64)   1792        ['input_1[0][0]']                \n",
            "                                                                                                  \n",
            " block1_conv2 (Conv2D)          (None, 64, 64, 64)   36928       ['block1_conv1[0][0]']           \n",
            "                                                                                                  \n",
            " block1_pool (MaxPooling2D)     (None, 32, 32, 64)   0           ['block1_conv2[0][0]']           \n",
            "                                                                                                  \n",
            " block2_conv1 (Conv2D)          (None, 32, 32, 128)  73856       ['block1_pool[0][0]']            \n",
            "                                                                                                  \n",
            " block2_conv2 (Conv2D)          (None, 32, 32, 128)  147584      ['block2_conv1[0][0]']           \n",
            "                                                                                                  \n",
            " block2_pool (MaxPooling2D)     (None, 16, 16, 128)  0           ['block2_conv2[0][0]']           \n",
            "                                                                                                  \n",
            " block3_conv1 (Conv2D)          (None, 16, 16, 256)  295168      ['block2_pool[0][0]']            \n",
            "                                                                                                  \n",
            " block3_conv2 (Conv2D)          (None, 16, 16, 256)  590080      ['block3_conv1[0][0]']           \n",
            "                                                                                                  \n",
            " block3_conv3 (Conv2D)          (None, 16, 16, 256)  590080      ['block3_conv2[0][0]']           \n",
            "                                                                                                  \n",
            " max_pooling2d (MaxPooling2D)   (None, 1, 1, 256)    0           ['block3_conv3[0][0]']           \n",
            "                                                                                                  \n",
            " max_pooling2d_1 (MaxPooling2D)  (None, 2, 2, 256)   0           ['block3_conv3[0][0]']           \n",
            "                                                                                                  \n",
            " max_pooling2d_2 (MaxPooling2D)  (None, 4, 4, 256)   0           ['block3_conv3[0][0]']           \n",
            "                                                                                                  \n",
            " flatten (Flatten)              (None, 256)          0           ['max_pooling2d[0][0]']          \n",
            "                                                                                                  \n",
            " flatten_1 (Flatten)            (None, 1024)         0           ['max_pooling2d_1[0][0]']        \n",
            "                                                                                                  \n",
            " flatten_2 (Flatten)            (None, 4096)         0           ['max_pooling2d_2[0][0]']        \n",
            "                                                                                                  \n",
            "==================================================================================================\n",
            "Total params: 1,735,488\n",
            "Trainable params: 0\n",
            "Non-trainable params: 1,735,488\n",
            "__________________________________________________________________________________________________\n"
          ]
        }
      ]
    },
    {
      "cell_type": "code",
      "source": [
        "train_deep = model.predict(trainx)\n",
        "test_deep = model.predict(testx)"
      ],
      "metadata": {
        "id": "fi8d9w7axmLj"
      },
      "execution_count": 12,
      "outputs": []
    },
    {
      "cell_type": "code",
      "source": [
        "train_deep = np.hstack([train_deep[0], train_deep[1], train_deep[2]])\n",
        "test_deep = np.hstack([test_deep[0], test_deep[1], test_deep[2]])"
      ],
      "metadata": {
        "id": "jHpbQnYFx5wk"
      },
      "execution_count": 13,
      "outputs": []
    },
    {
      "cell_type": "code",
      "source": [
        "import xgboost as xgb\n",
        "\n",
        "xgb_cl = xgb.XGBClassifier()"
      ],
      "metadata": {
        "id": "_HQigpiWwkD1"
      },
      "execution_count": 14,
      "outputs": []
    },
    {
      "cell_type": "code",
      "source": [
        "xgb_cl.fit(train_deep, trainy)"
      ],
      "metadata": {
        "colab": {
          "base_uri": "https://localhost:8080/"
        },
        "id": "lVms32_DxaKX",
        "outputId": "ff6b7fd6-2663-42fa-abf7-a98c9ad3374c"
      },
      "execution_count": 15,
      "outputs": [
        {
          "output_type": "stream",
          "name": "stderr",
          "text": [
            "/usr/local/lib/python3.7/dist-packages/sklearn/preprocessing/_label.py:98: DataConversionWarning: A column-vector y was passed when a 1d array was expected. Please change the shape of y to (n_samples, ), for example using ravel().\n",
            "  y = column_or_1d(y, warn=True)\n",
            "/usr/local/lib/python3.7/dist-packages/sklearn/preprocessing/_label.py:133: DataConversionWarning: A column-vector y was passed when a 1d array was expected. Please change the shape of y to (n_samples, ), for example using ravel().\n",
            "  y = column_or_1d(y, warn=True)\n"
          ]
        },
        {
          "output_type": "execute_result",
          "data": {
            "text/plain": [
              "XGBClassifier(objective='multi:softprob')"
            ]
          },
          "metadata": {},
          "execution_count": 15
        }
      ]
    },
    {
      "cell_type": "code",
      "source": [
        "y_pred = xgb_cl.predict(test_deep)\n",
        "print(\"Accuracy:\",metrics.accuracy_score(testy, y_pred))"
      ],
      "metadata": {
        "id": "wFxkP507yIy4",
        "colab": {
          "base_uri": "https://localhost:8080/"
        },
        "outputId": "c761aaf7-b215-4592-c352-c7c3a4b71064"
      },
      "execution_count": 16,
      "outputs": [
        {
          "output_type": "stream",
          "name": "stdout",
          "text": [
            "Accuracy: 0.28625\n"
          ]
        }
      ]
    },
    {
      "cell_type": "code",
      "source": [
        "confusionmatrix = confusion_matrix(testy, y_pred, normalize = 'true')  \n",
        "ax = sns.heatmap(confusionmatrix , cmap = 'Blues', annot = True , cbar = True , fmt ='.2%')\n",
        "ax.figbox\n",
        "# Show all ticks and label them with the respective list entries\n",
        "list = []\n",
        "for key in label.keys():\n",
        "  list.append(key)\n",
        "ax.xaxis.set_ticklabels(list)\n",
        "ax.yaxis.set_ticklabels(list) \n",
        "# Rotate the tick labels and set their alignment.\n",
        "plt.setp(ax.get_xticklabels() , rotation=45 , ha=\"right\", rotation_mode=\"anchor\")\n",
        "ax.set_title('Confusion Matrix for Name Prediction\\n\\n');\n",
        "plt.show()"
      ],
      "metadata": {
        "colab": {
          "base_uri": "https://localhost:8080/",
          "height": 338
        },
        "id": "6sjfuVH6yU1D",
        "outputId": "97d72a9e-3d83-4822-d690-822018dca979"
      },
      "execution_count": 17,
      "outputs": [
        {
          "output_type": "display_data",
          "data": {
            "text/plain": [
              "<Figure size 432x288 with 2 Axes>"
            ],
            "image/png": "[encoded data removed]"
          },
          "metadata": {
            "needs_background": "light"
          }
        }
      ]
    },
    {
      "cell_type": "code",
      "source": [
        "print(classification_report(testy, y_pred))"
      ],
      "metadata": {
        "colab": {
          "base_uri": "https://localhost:8080/"
        },
        "id": "3hRbllGInd8d",
        "outputId": "37c7fac0-7b3e-456b-b2c3-16a71e32ac7b"
      },
      "execution_count": 18,
      "outputs": [
        {
          "output_type": "stream",
          "name": "stdout",
          "text": [
            "              precision    recall  f1-score   support\n",
            "\n",
            "           0       0.37      0.37      0.37       160\n",
            "           1       0.28      0.29      0.28       160\n",
            "           2       0.30      0.33      0.32       160\n",
            "           3       0.20      0.16      0.18       160\n",
            "           4       0.27      0.28      0.28       160\n",
            "\n",
            "    accuracy                           0.29       800\n",
            "   macro avg       0.28      0.29      0.28       800\n",
            "weighted avg       0.28      0.29      0.28       800\n",
            "\n"
          ]
        }
      ]
    }
  ]
}